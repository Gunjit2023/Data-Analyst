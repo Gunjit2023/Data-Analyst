{
  "cells": [
    {
      "cell_type": "markdown",
      "metadata": {
        "id": "view-in-github",
        "colab_type": "text"
      },
      "source": [
        "<a href=\"https://colab.research.google.com/github/Gunjit2023/Data-Analyst/blob/main/Web_Scraping_Review_Lab.ipynb\" target=\"_parent\"><img src=\"https://colab.research.google.com/assets/colab-badge.svg\" alt=\"Open In Colab\"/></a>"
      ]
    },
    {
      "cell_type": "markdown",
      "metadata": {
        "id": "gXe9EM4Pex4z"
      },
      "source": [
        "<p style=\"text-align:center\">\n",
        "    <a href=\"https://skills.network/?utm_medium=Exinfluencer&utm_source=Exinfluencer&utm_content=000026UJ&utm_term=10006555&utm_id=NA-SkillsNetwork-Channel-SkillsNetworkCoursesIBMDA0321ENSkillsNetwork928-2022-01-01\" target=\"_blank\">\n",
        "    <img src=\"https://cf-courses-data.s3.us.cloud-object-storage.appdomain.cloud/assets/logos/SN_web_lightmode.png\" width=\"200\" alt=\"Skills Network Logo\"  />\n",
        "    </a>\n",
        "</p>\n"
      ]
    },
    {
      "cell_type": "markdown",
      "metadata": {
        "id": "P_2YQT0Oex41"
      },
      "source": [
        "# **Web Scraping Lab**\n"
      ]
    },
    {
      "cell_type": "markdown",
      "metadata": {
        "id": "Z8DoSAWZex41"
      },
      "source": [
        "Estimated time needed: **30** minutes\n"
      ]
    },
    {
      "cell_type": "markdown",
      "metadata": {
        "id": "49odKFGbex41"
      },
      "source": [
        "## Objectives\n"
      ]
    },
    {
      "cell_type": "markdown",
      "metadata": {
        "id": "pf3d3sAMex42"
      },
      "source": [
        "After completing this lab you will be able to:\n"
      ]
    },
    {
      "cell_type": "markdown",
      "metadata": {
        "id": "Z34Ua6AGex42"
      },
      "source": [
        "* Download a webpage using requests module\n",
        "* Scrape all links from a web page\n",
        "* Scrape all image urls from a web page\n",
        "* Scrape data from html tables\n"
      ]
    },
    {
      "cell_type": "markdown",
      "metadata": {
        "id": "Faj1Mcyyex42"
      },
      "source": [
        "## Scrape www.ibm.com\n"
      ]
    },
    {
      "cell_type": "markdown",
      "metadata": {
        "id": "yBEkzQ-Jex42"
      },
      "source": [
        "Import the required modules and functions\n"
      ]
    },
    {
      "cell_type": "code",
      "execution_count": 1,
      "metadata": {
        "id": "Xgxvmc1Cex42"
      },
      "outputs": [],
      "source": [
        "from bs4 import BeautifulSoup # this module helps in web scrapping.\n",
        "import requests  # this module helps us to download a web page"
      ]
    },
    {
      "cell_type": "markdown",
      "metadata": {
        "id": "DPqjoZhOex43"
      },
      "source": [
        "Download the contents of the web page\n"
      ]
    },
    {
      "cell_type": "code",
      "execution_count": 2,
      "metadata": {
        "id": "mv1q9U47ex43"
      },
      "outputs": [],
      "source": [
        "url = \"http://www.ibm.com\""
      ]
    },
    {
      "cell_type": "code",
      "execution_count": 3,
      "metadata": {
        "id": "qNiZPs2Bex43"
      },
      "outputs": [],
      "source": [
        "# get the contents of the webpage in text format and store in a variable called data\n",
        "data  = requests.get(url).text"
      ]
    },
    {
      "cell_type": "markdown",
      "metadata": {
        "id": "0xCYp8dmex43"
      },
      "source": [
        "Create a soup object using the class BeautifulSoup\n"
      ]
    },
    {
      "cell_type": "code",
      "execution_count": 4,
      "metadata": {
        "id": "0GQ58Hnqex44"
      },
      "outputs": [],
      "source": [
        "soup = BeautifulSoup(data,\"html5lib\")  # create a soup object using the variable 'data'"
      ]
    },
    {
      "cell_type": "markdown",
      "metadata": {
        "id": "eRdvCe1Fex44"
      },
      "source": [
        "Scrape all links\n"
      ]
    },
    {
      "cell_type": "code",
      "execution_count": 5,
      "metadata": {
        "colab": {
          "base_uri": "https://localhost:8080/"
        },
        "id": "xTWZl-hBex44",
        "outputId": "b7c6b09c-a636-4a3e-b76a-f83fdea9646a"
      },
      "outputs": [
        {
          "output_type": "stream",
          "name": "stdout",
          "text": [
            "https://www.ibm.com/cloud?lnk=hpUSbt1\n"
          ]
        }
      ],
      "source": [
        "for link in soup.find_all('a'):  # in html anchor/link is represented by the tag <a>\n",
        "    print(link.get('href'))"
      ]
    },
    {
      "cell_type": "markdown",
      "metadata": {
        "id": "MhGw_HPFex44"
      },
      "source": [
        "Scrape  all images\n"
      ]
    },
    {
      "cell_type": "code",
      "execution_count": 6,
      "metadata": {
        "colab": {
          "base_uri": "https://localhost:8080/"
        },
        "id": "gTsnO5bHex44",
        "outputId": "0094b12f-eb27-4513-d228-8b76d174b982"
      },
      "outputs": [
        {
          "output_type": "stream",
          "name": "stdout",
          "text": [
            "/content/dam/adobe-cms/default-images/home-consultants.component.crop-16by9-xl.ts=1700743804887.jpg/content/adobe-cms/us/en/homepage/_jcr_content/root/table_of_contents/simple_image\n"
          ]
        }
      ],
      "source": [
        "for link in soup.find_all('img'):# in html image is represented by the tag <img>\n",
        "    print(link.get('src'))"
      ]
    },
    {
      "cell_type": "markdown",
      "metadata": {
        "id": "EUcpaX-xex44"
      },
      "source": [
        "## Scrape data from html tables\n"
      ]
    },
    {
      "cell_type": "code",
      "execution_count": null,
      "metadata": {
        "id": "WKxogX1sex44"
      },
      "outputs": [],
      "source": [
        "#The below url contains a html table with data about colors and color codes."
      ]
    },
    {
      "cell_type": "code",
      "execution_count": 7,
      "metadata": {
        "id": "SfTFBWZdex44"
      },
      "outputs": [],
      "source": [
        "url = \"https://cf-courses-data.s3.us.cloud-object-storage.appdomain.cloud/IBM-DA0321EN-SkillsNetwork/labs/datasets/HTMLColorCodes.html\""
      ]
    },
    {
      "cell_type": "markdown",
      "metadata": {
        "id": "PJw87WCrex45"
      },
      "source": [
        "Before proceeding to scrape a web site, you need to examine the contents, and the way data is organized on the website. Open the above url in your browser and check how many rows and columns are there in the color table.\n"
      ]
    },
    {
      "cell_type": "code",
      "execution_count": 8,
      "metadata": {
        "id": "9Lb45r9eex45"
      },
      "outputs": [],
      "source": [
        "# get the contents of the webpage in text format and store in a variable called data\n",
        "data  = requests.get(url).text"
      ]
    },
    {
      "cell_type": "code",
      "execution_count": 9,
      "metadata": {
        "id": "ilgCTbPHex45"
      },
      "outputs": [],
      "source": [
        "soup = BeautifulSoup(data,\"html5lib\")"
      ]
    },
    {
      "cell_type": "code",
      "execution_count": 10,
      "metadata": {
        "id": "X_evWZsnex45"
      },
      "outputs": [],
      "source": [
        "#find a html table in the web page\n",
        "table = soup.find('table') # in html table is represented by the tag <table>"
      ]
    },
    {
      "cell_type": "code",
      "execution_count": 11,
      "metadata": {
        "colab": {
          "base_uri": "https://localhost:8080/"
        },
        "id": "IG_3XH7Bex45",
        "outputId": "19a33fe0-a04c-478a-ca1b-f964aa94fe84"
      },
      "outputs": [
        {
          "output_type": "stream",
          "name": "stdout",
          "text": [
            "Color Name--->Hex Code#RRGGBB\n",
            "lightsalmon--->#FFA07A\n",
            "salmon--->#FA8072\n",
            "darksalmon--->#E9967A\n",
            "lightcoral--->#F08080\n",
            "coral--->#FF7F50\n",
            "tomato--->#FF6347\n",
            "orangered--->#FF4500\n",
            "gold--->#FFD700\n",
            "orange--->#FFA500\n",
            "darkorange--->#FF8C00\n",
            "lightyellow--->#FFFFE0\n",
            "lemonchiffon--->#FFFACD\n",
            "papayawhip--->#FFEFD5\n",
            "moccasin--->#FFE4B5\n",
            "peachpuff--->#FFDAB9\n",
            "palegoldenrod--->#EEE8AA\n",
            "khaki--->#F0E68C\n",
            "darkkhaki--->#BDB76B\n",
            "yellow--->#FFFF00\n",
            "lawngreen--->#7CFC00\n",
            "chartreuse--->#7FFF00\n",
            "limegreen--->#32CD32\n",
            "lime--->#00FF00\n",
            "forestgreen--->#228B22\n",
            "green--->#008000\n",
            "powderblue--->#B0E0E6\n",
            "lightblue--->#ADD8E6\n",
            "lightskyblue--->#87CEFA\n",
            "skyblue--->#87CEEB\n",
            "deepskyblue--->#00BFFF\n",
            "lightsteelblue--->#B0C4DE\n",
            "dodgerblue--->#1E90FF\n"
          ]
        }
      ],
      "source": [
        "#Get all rows from the table\n",
        "for row in table.find_all('tr'): # in html table row is represented by the tag <tr>\n",
        "    # Get all columns in each row.\n",
        "    cols = row.find_all('td') # in html a column is represented by the tag <td>\n",
        "    color_name = cols[2].getText() # store the value in column 3 as color_name\n",
        "    color_code = cols[3].getText() # store the value in column 4 as color_code\n",
        "    print(\"{}--->{}\".format(color_name,color_code))"
      ]
    },
    {
      "cell_type": "markdown",
      "metadata": {
        "id": "-HYpK6yjex45"
      },
      "source": [
        "## Authors\n"
      ]
    },
    {
      "cell_type": "markdown",
      "metadata": {
        "id": "L9sSbmjIex45"
      },
      "source": [
        "Ramesh Sannareddy\n"
      ]
    },
    {
      "cell_type": "markdown",
      "metadata": {
        "id": "a9bog3Qzex45"
      },
      "source": [
        "### Other Contributors\n"
      ]
    },
    {
      "cell_type": "markdown",
      "metadata": {
        "id": "gjcz6Ymyex45"
      },
      "source": [
        "Rav Ahuja\n"
      ]
    },
    {
      "cell_type": "markdown",
      "metadata": {
        "id": "79YkkIWrex46"
      },
      "source": [
        "## Change Log\n"
      ]
    },
    {
      "cell_type": "markdown",
      "metadata": {
        "id": "hb6u3Wv3ex46"
      },
      "source": [
        "|  Date (YYYY-MM-DD) |  Version | Changed By  |  Change Description |\n",
        "|---|---|---|---|\n",
        "| 2020-10-17  | 0.1  | Ramesh Sannareddy  |  Created initial version of the lab |\n"
      ]
    },
    {
      "cell_type": "markdown",
      "metadata": {
        "id": "8SLiOOv2ex46"
      },
      "source": [
        " Copyright &copy; 2020 IBM Corporation. This notebook and its source code are released under the terms of the [MIT License](https://cognitiveclass.ai/mit-license/?utm_medium=Exinfluencer&utm_source=Exinfluencer&utm_content=000026UJ&utm_term=10006555&utm_id=NA-SkillsNetwork-Channel-SkillsNetworkCoursesIBMDA0321ENSkillsNetwork928-2022-01-01).\n"
      ]
    }
  ],
  "metadata": {
    "kernelspec": {
      "display_name": "Python",
      "language": "python",
      "name": "conda-env-python-py"
    },
    "language_info": {
      "name": ""
    },
    "colab": {
      "provenance": [],
      "include_colab_link": true
    }
  },
  "nbformat": 4,
  "nbformat_minor": 0
}