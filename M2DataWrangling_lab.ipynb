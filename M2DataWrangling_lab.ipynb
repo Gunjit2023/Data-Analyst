{
  "cells": [
    {
      "cell_type": "markdown",
      "metadata": {
        "id": "view-in-github",
        "colab_type": "text"
      },
      "source": [
        "<a href=\"https://colab.research.google.com/github/Gunjit2023/Data-Analyst/blob/main/M2DataWrangling_lab.ipynb\" target=\"_parent\"><img src=\"https://colab.research.google.com/assets/colab-badge.svg\" alt=\"Open In Colab\"/></a>"
      ]
    },
    {
      "cell_type": "markdown",
      "metadata": {
        "id": "FelcIUAv-zWi"
      },
      "source": [
        "<p style=\"text-align:center\">\n",
        "    <a href=\"https://skills.network/?utm_medium=Exinfluencer&utm_source=Exinfluencer&utm_content=000026UJ&utm_term=10006555&utm_id=NA-SkillsNetwork-Channel-SkillsNetworkCoursesIBMDA0321ENSkillsNetwork928-2022-01-01\" target=\"_blank\">\n",
        "    <img src=\"https://cf-courses-data.s3.us.cloud-object-storage.appdomain.cloud/assets/logos/SN_web_lightmode.png\" width=\"200\" alt=\"Skills Network Logo\"  />\n",
        "    </a>\n",
        "</p>\n"
      ]
    },
    {
      "cell_type": "markdown",
      "metadata": {
        "id": "GTVudx0U-zWk"
      },
      "source": [
        "# **Data Wrangling Lab**\n"
      ]
    },
    {
      "cell_type": "markdown",
      "metadata": {
        "id": "2AqFupx3-zWk"
      },
      "source": [
        "Estimated time needed: **45 to 60** minutes\n"
      ]
    },
    {
      "cell_type": "markdown",
      "metadata": {
        "id": "0ZQKy_m0-zWk"
      },
      "source": [
        "In this assignment you will be performing data wrangling.\n"
      ]
    },
    {
      "cell_type": "markdown",
      "metadata": {
        "id": "iQNCvWuh-zWk"
      },
      "source": [
        "## Objectives\n"
      ]
    },
    {
      "cell_type": "markdown",
      "metadata": {
        "id": "5aCT9cO_-zWl"
      },
      "source": [
        "In this lab you will perform the following:\n"
      ]
    },
    {
      "cell_type": "markdown",
      "metadata": {
        "id": "WZwVNTmS-zWl"
      },
      "source": [
        "-   Identify duplicate values in the dataset.\n",
        "\n",
        "-   Remove duplicate values from the dataset.\n",
        "\n",
        "-   Identify missing values in the dataset.\n",
        "\n",
        "-   Impute the missing values in the dataset.\n",
        "\n",
        "-   Normalize data in the dataset.\n"
      ]
    },
    {
      "cell_type": "markdown",
      "metadata": {
        "id": "2252sZBh-zWl"
      },
      "source": [
        "<hr>\n"
      ]
    },
    {
      "cell_type": "markdown",
      "metadata": {
        "id": "MuBS17ji-zWl"
      },
      "source": [
        "## Hands on Lab\n"
      ]
    },
    {
      "cell_type": "markdown",
      "metadata": {
        "id": "K1fFdt4O-zWl"
      },
      "source": [
        "Import pandas module.\n"
      ]
    },
    {
      "cell_type": "code",
      "execution_count": 1,
      "metadata": {
        "id": "fbh4TJl1-zWm"
      },
      "outputs": [],
      "source": [
        "import pandas as pd"
      ]
    },
    {
      "cell_type": "markdown",
      "metadata": {
        "id": "NkK-536p-zWm"
      },
      "source": [
        "Load the dataset into a dataframe.\n"
      ]
    },
    {
      "cell_type": "code",
      "execution_count": 8,
      "metadata": {
        "id": "FaGTle7A-zWn"
      },
      "outputs": [],
      "source": [
        "df = pd.read_csv(\"https://cf-courses-data.s3.us.cloud-object-storage.appdomain.cloud/IBM-DA0321EN-SkillsNetwork/LargeData/m1_survey_data.csv\")"
      ]
    },
    {
      "cell_type": "markdown",
      "metadata": {
        "id": "L8jMtitY-zWn"
      },
      "source": [
        "## Finding duplicates\n"
      ]
    },
    {
      "cell_type": "markdown",
      "metadata": {
        "id": "I-Ohg-sv-zWn"
      },
      "source": [
        "In this section you will identify duplicate values in the dataset.\n"
      ]
    },
    {
      "cell_type": "markdown",
      "metadata": {
        "id": "7ZrvX664-zWn"
      },
      "source": [
        " Find how many duplicate rows exist in the dataframe.\n"
      ]
    },
    {
      "cell_type": "code",
      "execution_count": 9,
      "metadata": {
        "colab": {
          "base_uri": "https://localhost:8080/"
        },
        "id": "3s3DV4HM-zWn",
        "outputId": "0aa06854-2e28-4832-de72-f02dcd22bc78"
      },
      "outputs": [
        {
          "output_type": "execute_result",
          "data": {
            "text/plain": [
              "154"
            ]
          },
          "metadata": {},
          "execution_count": 9
        }
      ],
      "source": [
        "# your code goes here\n",
        "df.duplicated().sum()\n"
      ]
    },
    {
      "cell_type": "code",
      "source": [
        "df['Respondent'].duplicated().sum()"
      ],
      "metadata": {
        "colab": {
          "base_uri": "https://localhost:8080/"
        },
        "id": "bVoondUFePfc",
        "outputId": "692a71f8-9144-4abd-ded5-84183b6d5f55"
      },
      "execution_count": 10,
      "outputs": [
        {
          "output_type": "execute_result",
          "data": {
            "text/plain": [
              "154"
            ]
          },
          "metadata": {},
          "execution_count": 10
        }
      ]
    },
    {
      "cell_type": "markdown",
      "metadata": {
        "id": "7SxQkQba-zWn"
      },
      "source": [
        "## Removing duplicates\n"
      ]
    },
    {
      "cell_type": "markdown",
      "metadata": {
        "id": "gYfU4wYO-zWn"
      },
      "source": [
        "Remove the duplicate rows from the dataframe.\n"
      ]
    },
    {
      "cell_type": "code",
      "execution_count": 11,
      "metadata": {
        "id": "6gI-AcuT-zWn"
      },
      "outputs": [],
      "source": [
        "# your code goes here\n",
        "df.drop_duplicates(inplace=True)\n"
      ]
    },
    {
      "cell_type": "markdown",
      "metadata": {
        "id": "MmqViX9z-zWn"
      },
      "source": [
        "Verify if duplicates were actually dropped.\n"
      ]
    },
    {
      "cell_type": "code",
      "execution_count": 12,
      "metadata": {
        "colab": {
          "base_uri": "https://localhost:8080/"
        },
        "id": "9bFqVBCK-zWo",
        "outputId": "378e2677-f66c-4d65-939a-10018e536416"
      },
      "outputs": [
        {
          "output_type": "execute_result",
          "data": {
            "text/plain": [
              "0"
            ]
          },
          "metadata": {},
          "execution_count": 12
        }
      ],
      "source": [
        "# your code goes here\n",
        "df.duplicated().sum()\n"
      ]
    },
    {
      "cell_type": "code",
      "source": [
        "print(len(df.index))"
      ],
      "metadata": {
        "colab": {
          "base_uri": "https://localhost:8080/"
        },
        "id": "RPLUZpu2eDsb",
        "outputId": "ca0e82e5-1f9e-4017-e2dd-81141a915c27"
      },
      "execution_count": 13,
      "outputs": [
        {
          "output_type": "stream",
          "name": "stdout",
          "text": [
            "11398\n"
          ]
        }
      ]
    },
    {
      "cell_type": "markdown",
      "metadata": {
        "id": "cqRHmSQ8-zWo"
      },
      "source": [
        "## Finding Missing values\n"
      ]
    },
    {
      "cell_type": "markdown",
      "metadata": {
        "id": "wolcCGtG-zWo"
      },
      "source": [
        "Find the missing values for all columns.\n"
      ]
    },
    {
      "cell_type": "code",
      "execution_count": 14,
      "metadata": {
        "colab": {
          "base_uri": "https://localhost:8080/"
        },
        "id": "zmC1Zd3_-zWo",
        "outputId": "2f39244e-6e64-408a-b967-8f4c1b358c7a"
      },
      "outputs": [
        {
          "output_type": "stream",
          "name": "stdout",
          "text": [
            "Respondent\n",
            "False    11398\n",
            "Name: Respondent, dtype: int64\n",
            "\n",
            "MainBranch\n",
            "False    11398\n",
            "Name: MainBranch, dtype: int64\n",
            "\n",
            "Hobbyist\n",
            "False    11398\n",
            "Name: Hobbyist, dtype: int64\n",
            "\n",
            "OpenSourcer\n",
            "False    11398\n",
            "Name: OpenSourcer, dtype: int64\n",
            "\n",
            "OpenSource\n",
            "False    11317\n",
            "True        81\n",
            "Name: OpenSource, dtype: int64\n",
            "\n",
            "Employment\n",
            "False    11398\n",
            "Name: Employment, dtype: int64\n",
            "\n",
            "Country\n",
            "False    11398\n",
            "Name: Country, dtype: int64\n",
            "\n",
            "Student\n",
            "False    11347\n",
            "True        51\n",
            "Name: Student, dtype: int64\n",
            "\n",
            "EdLevel\n",
            "False    11286\n",
            "True       112\n",
            "Name: EdLevel, dtype: int64\n",
            "\n",
            "UndergradMajor\n",
            "False    10661\n",
            "True       737\n",
            "Name: UndergradMajor, dtype: int64\n",
            "\n",
            "EduOther\n",
            "False    11234\n",
            "True       164\n",
            "Name: EduOther, dtype: int64\n",
            "\n",
            "OrgSize\n",
            "False    11302\n",
            "True        96\n",
            "Name: OrgSize, dtype: int64\n",
            "\n",
            "DevType\n",
            "False    11333\n",
            "True        65\n",
            "Name: DevType, dtype: int64\n",
            "\n",
            "YearsCode\n",
            "False    11389\n",
            "True         9\n",
            "Name: YearsCode, dtype: int64\n",
            "\n",
            "Age1stCode\n",
            "False    11385\n",
            "True        13\n",
            "Name: Age1stCode, dtype: int64\n",
            "\n",
            "YearsCodePro\n",
            "False    11382\n",
            "True        16\n",
            "Name: YearsCodePro, dtype: int64\n",
            "\n",
            "CareerSat\n",
            "False    11398\n",
            "Name: CareerSat, dtype: int64\n",
            "\n",
            "JobSat\n",
            "False    11397\n",
            "True         1\n",
            "Name: JobSat, dtype: int64\n",
            "\n",
            "MgrIdiot\n",
            "False    10905\n",
            "True       493\n",
            "Name: MgrIdiot, dtype: int64\n",
            "\n",
            "MgrMoney\n",
            "False    10901\n",
            "True       497\n",
            "Name: MgrMoney, dtype: int64\n",
            "\n",
            "MgrWant\n",
            "False    10905\n",
            "True       493\n",
            "Name: MgrWant, dtype: int64\n",
            "\n",
            "JobSeek\n",
            "False    11398\n",
            "Name: JobSeek, dtype: int64\n",
            "\n",
            "LastHireDate\n",
            "False    11398\n",
            "Name: LastHireDate, dtype: int64\n",
            "\n",
            "LastInt\n",
            "False    10985\n",
            "True       413\n",
            "Name: LastInt, dtype: int64\n",
            "\n",
            "FizzBuzz\n",
            "False    11361\n",
            "True        37\n",
            "Name: FizzBuzz, dtype: int64\n",
            "\n",
            "JobFactors\n",
            "False    11395\n",
            "True         3\n",
            "Name: JobFactors, dtype: int64\n",
            "\n",
            "ResumeUpdate\n",
            "False    11359\n",
            "True        39\n",
            "Name: ResumeUpdate, dtype: int64\n",
            "\n",
            "CurrencySymbol\n",
            "False    11398\n",
            "Name: CurrencySymbol, dtype: int64\n",
            "\n",
            "CurrencyDesc\n",
            "False    11398\n",
            "Name: CurrencyDesc, dtype: int64\n",
            "\n",
            "CompTotal\n",
            "False    10589\n",
            "True       809\n",
            "Name: CompTotal, dtype: int64\n",
            "\n",
            "CompFreq\n",
            "False    11192\n",
            "True       206\n",
            "Name: CompFreq, dtype: int64\n",
            "\n",
            "ConvertedComp\n",
            "False    10582\n",
            "True       816\n",
            "Name: ConvertedComp, dtype: int64\n",
            "\n",
            "WorkWeekHrs\n",
            "False    11276\n",
            "True       122\n",
            "Name: WorkWeekHrs, dtype: int64\n",
            "\n",
            "WorkPlan\n",
            "False    11277\n",
            "True       121\n",
            "Name: WorkPlan, dtype: int64\n",
            "\n",
            "WorkChallenge\n",
            "False    11234\n",
            "True       164\n",
            "Name: WorkChallenge, dtype: int64\n",
            "\n",
            "WorkRemote\n",
            "False    11390\n",
            "True         8\n",
            "Name: WorkRemote, dtype: int64\n",
            "\n",
            "WorkLoc\n",
            "False    11366\n",
            "True        32\n",
            "Name: WorkLoc, dtype: int64\n",
            "\n",
            "ImpSyn\n",
            "False    11393\n",
            "True         5\n",
            "Name: ImpSyn, dtype: int64\n",
            "\n",
            "CodeRev\n",
            "False    11397\n",
            "True         1\n",
            "Name: CodeRev, dtype: int64\n",
            "\n",
            "CodeRevHrs\n",
            "False    8972\n",
            "True     2426\n",
            "Name: CodeRevHrs, dtype: int64\n",
            "\n",
            "UnitTests\n",
            "False    11369\n",
            "True        29\n",
            "Name: UnitTests, dtype: int64\n",
            "\n",
            "PurchaseHow\n",
            "False    11202\n",
            "True       196\n",
            "Name: PurchaseHow, dtype: int64\n",
            "\n",
            "PurchaseWhat\n",
            "False    11360\n",
            "True        38\n",
            "Name: PurchaseWhat, dtype: int64\n",
            "\n",
            "LanguageWorkedWith\n",
            "False    11387\n",
            "True        11\n",
            "Name: LanguageWorkedWith, dtype: int64\n",
            "\n",
            "LanguageDesireNextYear\n",
            "False    11264\n",
            "True       134\n",
            "Name: LanguageDesireNextYear, dtype: int64\n",
            "\n",
            "DatabaseWorkedWith\n",
            "False    10945\n",
            "True       453\n",
            "Name: DatabaseWorkedWith, dtype: int64\n",
            "\n",
            "DatabaseDesireNextYear\n",
            "False    10356\n",
            "True      1042\n",
            "Name: DatabaseDesireNextYear, dtype: int64\n",
            "\n",
            "PlatformWorkedWith\n",
            "False    10987\n",
            "True       411\n",
            "Name: PlatformWorkedWith, dtype: int64\n",
            "\n",
            "PlatformDesireNextYear\n",
            "False    10854\n",
            "True       544\n",
            "Name: PlatformDesireNextYear, dtype: int64\n",
            "\n",
            "WebFrameWorkedWith\n",
            "False    10005\n",
            "True      1393\n",
            "Name: WebFrameWorkedWith, dtype: int64\n",
            "\n",
            "WebFrameDesireNextYear\n",
            "False    9781\n",
            "True     1617\n",
            "Name: WebFrameDesireNextYear, dtype: int64\n",
            "\n",
            "MiscTechWorkedWith\n",
            "False    9216\n",
            "True     2182\n",
            "Name: MiscTechWorkedWith, dtype: int64\n",
            "\n",
            "MiscTechDesireNextYear\n",
            "False    9943\n",
            "True     1455\n",
            "Name: MiscTechDesireNextYear, dtype: int64\n",
            "\n",
            "DevEnviron\n",
            "False    11369\n",
            "True        29\n",
            "Name: DevEnviron, dtype: int64\n",
            "\n",
            "OpSys\n",
            "False    11364\n",
            "True        34\n",
            "Name: OpSys, dtype: int64\n",
            "\n",
            "Containers\n",
            "False    11316\n",
            "True        82\n",
            "Name: Containers, dtype: int64\n",
            "\n",
            "BlockchainOrg\n",
            "False    9076\n",
            "True     2322\n",
            "Name: BlockchainOrg, dtype: int64\n",
            "\n",
            "BlockchainIs\n",
            "False    8788\n",
            "True     2610\n",
            "Name: BlockchainIs, dtype: int64\n",
            "\n",
            "BetterLife\n",
            "False    11300\n",
            "True        98\n",
            "Name: BetterLife, dtype: int64\n",
            "\n",
            "ITperson\n",
            "False    11363\n",
            "True        35\n",
            "Name: ITperson, dtype: int64\n",
            "\n",
            "OffOn\n",
            "False    11360\n",
            "True        38\n",
            "Name: OffOn, dtype: int64\n",
            "\n",
            "SocialMedia\n",
            "False    11105\n",
            "True       293\n",
            "Name: SocialMedia, dtype: int64\n",
            "\n",
            "Extraversion\n",
            "False    11378\n",
            "True        20\n",
            "Name: Extraversion, dtype: int64\n",
            "\n",
            "ScreenName\n",
            "False    10891\n",
            "True       507\n",
            "Name: ScreenName, dtype: int64\n",
            "\n",
            "SOVisit1st\n",
            "False    11073\n",
            "True       325\n",
            "Name: SOVisit1st, dtype: int64\n",
            "\n",
            "SOVisitFreq\n",
            "False    11393\n",
            "True         5\n",
            "Name: SOVisitFreq, dtype: int64\n",
            "\n",
            "SOVisitTo\n",
            "False    11397\n",
            "True         1\n",
            "Name: SOVisitTo, dtype: int64\n",
            "\n",
            "SOFindAnswer\n",
            "False    11395\n",
            "True         3\n",
            "Name: SOFindAnswer, dtype: int64\n",
            "\n",
            "SOTimeSaved\n",
            "False    11348\n",
            "True        50\n",
            "Name: SOTimeSaved, dtype: int64\n",
            "\n",
            "SOHowMuchTime\n",
            "False    9481\n",
            "True     1917\n",
            "Name: SOHowMuchTime, dtype: int64\n",
            "\n",
            "SOAccount\n",
            "False    11397\n",
            "True         1\n",
            "Name: SOAccount, dtype: int64\n",
            "\n",
            "SOPartFreq\n",
            "False    10270\n",
            "True      1128\n",
            "Name: SOPartFreq, dtype: int64\n",
            "\n",
            "SOJobs\n",
            "False    11392\n",
            "True         6\n",
            "Name: SOJobs, dtype: int64\n",
            "\n",
            "EntTeams\n",
            "False    11393\n",
            "True         5\n",
            "Name: EntTeams, dtype: int64\n",
            "\n",
            "SOComm\n",
            "False    11398\n",
            "Name: SOComm, dtype: int64\n",
            "\n",
            "WelcomeChange\n",
            "False    11313\n",
            "True        85\n",
            "Name: WelcomeChange, dtype: int64\n",
            "\n",
            "SONewContent\n",
            "False    9433\n",
            "True     1965\n",
            "Name: SONewContent, dtype: int64\n",
            "\n",
            "Age\n",
            "False    11111\n",
            "True       287\n",
            "Name: Age, dtype: int64\n",
            "\n",
            "Gender\n",
            "False    11325\n",
            "True        73\n",
            "Name: Gender, dtype: int64\n",
            "\n",
            "Trans\n",
            "False    11275\n",
            "True       123\n",
            "Name: Trans, dtype: int64\n",
            "\n",
            "Sexuality\n",
            "False    10856\n",
            "True       542\n",
            "Name: Sexuality, dtype: int64\n",
            "\n",
            "Ethnicity\n",
            "False    10723\n",
            "True       675\n",
            "Name: Ethnicity, dtype: int64\n",
            "\n",
            "Dependents\n",
            "False    11258\n",
            "True       140\n",
            "Name: Dependents, dtype: int64\n",
            "\n",
            "SurveyLength\n",
            "False    11379\n",
            "True        19\n",
            "Name: SurveyLength, dtype: int64\n",
            "\n",
            "SurveyEase\n",
            "False    11384\n",
            "True        14\n",
            "Name: SurveyEase, dtype: int64\n",
            "\n"
          ]
        }
      ],
      "source": [
        "# your code goes here\n",
        "missing_data = df.isnull()\n",
        "\n",
        "for column in missing_data.columns.values.tolist():\n",
        "    print(column)\n",
        "    print (missing_data[column].value_counts())\n",
        "    print(\"\")\n"
      ]
    },
    {
      "cell_type": "markdown",
      "metadata": {
        "id": "e2vDPmtb-zWo"
      },
      "source": [
        "Find out how many rows are missing in the column 'WorkLoc'\n"
      ]
    },
    {
      "cell_type": "code",
      "execution_count": 15,
      "metadata": {
        "colab": {
          "base_uri": "https://localhost:8080/"
        },
        "id": "DnpMF266-zWo",
        "outputId": "c6bc69c4-dccd-4eea-93f7-e4642c7c8ce6"
      },
      "outputs": [
        {
          "output_type": "execute_result",
          "data": {
            "text/plain": [
              "32"
            ]
          },
          "metadata": {},
          "execution_count": 15
        }
      ],
      "source": [
        "# your code goes here\n",
        "df['WorkLoc'].isna().sum()"
      ]
    },
    {
      "cell_type": "markdown",
      "metadata": {
        "id": "gUCFOw5u-zWo"
      },
      "source": [
        "## Imputing missing values\n"
      ]
    },
    {
      "cell_type": "markdown",
      "metadata": {
        "id": "GW9uWukE-zWo"
      },
      "source": [
        "Find the  value counts for the column WorkLoc.\n"
      ]
    },
    {
      "cell_type": "code",
      "execution_count": 16,
      "metadata": {
        "colab": {
          "base_uri": "https://localhost:8080/"
        },
        "id": "PXUQtQaI-zWo",
        "outputId": "ef32eeb1-c1f6-43e3-d197-2770dfcc3864"
      },
      "outputs": [
        {
          "output_type": "execute_result",
          "data": {
            "text/plain": [
              "Office                                            6806\n",
              "Home                                              3589\n",
              "Other place, such as a coworking space or cafe     971\n",
              "Name: WorkLoc, dtype: int64"
            ]
          },
          "metadata": {},
          "execution_count": 16
        }
      ],
      "source": [
        "# your code goes here\n",
        "df['WorkLoc'].value_counts()\n"
      ]
    },
    {
      "cell_type": "code",
      "source": [
        "df['Employment'].value_counts()"
      ],
      "metadata": {
        "colab": {
          "base_uri": "https://localhost:8080/"
        },
        "id": "82EX2_npfai4",
        "outputId": "ae7e6064-cc24-4157-ed16-1be47e412286"
      },
      "execution_count": 17,
      "outputs": [
        {
          "output_type": "execute_result",
          "data": {
            "text/plain": [
              "Employed full-time    10968\n",
              "Employed part-time      430\n",
              "Name: Employment, dtype: int64"
            ]
          },
          "metadata": {},
          "execution_count": 17
        }
      ]
    },
    {
      "cell_type": "code",
      "source": [
        "df['UndergradMajor'].value_counts()"
      ],
      "metadata": {
        "colab": {
          "base_uri": "https://localhost:8080/"
        },
        "id": "YRGj6lU4fdmP",
        "outputId": "8869adf8-04e4-450d-aa05-e6ee1b30cbe7"
      },
      "execution_count": 18,
      "outputs": [
        {
          "output_type": "execute_result",
          "data": {
            "text/plain": [
              "Computer science, computer engineering, or software engineering          6953\n",
              "Information systems, information technology, or system administration     794\n",
              "Another engineering discipline (ex. civil, electrical, mechanical)        759\n",
              "Web development or web design                                             410\n",
              "A natural science (ex. biology, chemistry, physics)                       403\n",
              "Mathematics or statistics                                                 372\n",
              "A business discipline (ex. accounting, finance, marketing)                244\n",
              "A social science (ex. anthropology, psychology, political science)        210\n",
              "A humanities discipline (ex. literature, history, philosophy)             207\n",
              "Fine arts or performing arts (ex. graphic design, music, studio art)      161\n",
              "I never declared a major                                                  124\n",
              "A health science (ex. nursing, pharmacy, radiology)                        24\n",
              "Name: UndergradMajor, dtype: int64"
            ]
          },
          "metadata": {},
          "execution_count": 18
        }
      ]
    },
    {
      "cell_type": "markdown",
      "metadata": {
        "id": "ndc2aTWO-zWo"
      },
      "source": [
        "Identify the value that is most frequent (majority) in the WorkLoc column.\n"
      ]
    },
    {
      "cell_type": "code",
      "execution_count": 19,
      "metadata": {
        "colab": {
          "base_uri": "https://localhost:8080/",
          "height": 36
        },
        "id": "eTopfLsT-zWo",
        "outputId": "dc6df555-ec20-48f3-9c9f-3df7c2ee679b"
      },
      "outputs": [
        {
          "output_type": "execute_result",
          "data": {
            "text/plain": [
              "'Office'"
            ],
            "application/vnd.google.colaboratory.intrinsic+json": {
              "type": "string"
            }
          },
          "metadata": {},
          "execution_count": 19
        }
      ],
      "source": [
        "#make a note of the majority value here, for future reference\n",
        "#\n",
        "df['WorkLoc'].value_counts().idxmax()"
      ]
    },
    {
      "cell_type": "markdown",
      "metadata": {
        "id": "yRgzBOq_-zWp"
      },
      "source": [
        "Impute (replace) all the empty rows in the column WorkLoc with the value that you have identified as majority.\n"
      ]
    },
    {
      "cell_type": "code",
      "execution_count": null,
      "metadata": {
        "id": "RuM9EFoV-zWp"
      },
      "outputs": [],
      "source": [
        "# your code goes here\n"
      ]
    },
    {
      "cell_type": "markdown",
      "metadata": {
        "id": "gp3q3quV-zWp"
      },
      "source": [
        "After imputation there should ideally not be any empty rows in the WorkLoc column.\n"
      ]
    },
    {
      "cell_type": "markdown",
      "metadata": {
        "id": "zY25e-OX-zWp"
      },
      "source": [
        "Verify if imputing was successful.\n"
      ]
    },
    {
      "cell_type": "code",
      "execution_count": null,
      "metadata": {
        "id": "TXiqEVQ2-zWp"
      },
      "outputs": [],
      "source": [
        "# your code goes here\n"
      ]
    },
    {
      "cell_type": "markdown",
      "metadata": {
        "id": "Sgn9NL8C-zWp"
      },
      "source": [
        "## Normalizing data\n"
      ]
    },
    {
      "cell_type": "markdown",
      "metadata": {
        "id": "6khzTnfU-zWp"
      },
      "source": [
        "There are two columns in the dataset that talk about compensation.\n",
        "\n",
        "One is \"CompFreq\". This column shows how often a developer is paid (Yearly, Monthly, Weekly).\n",
        "\n",
        "The other is \"CompTotal\". This column talks about how much the developer is paid per Year, Month, or Week depending upon his/her \"CompFreq\".\n",
        "\n",
        "This makes it difficult to compare the total compensation of the developers.\n",
        "\n",
        "In this section you will create a new column called 'NormalizedAnnualCompensation' which contains the 'Annual Compensation' irrespective of the 'CompFreq'.\n",
        "\n",
        "Once this column is ready, it makes comparison of salaries easy.\n"
      ]
    },
    {
      "cell_type": "markdown",
      "metadata": {
        "id": "4MBioBcj-zWp"
      },
      "source": [
        "<hr>\n"
      ]
    },
    {
      "cell_type": "markdown",
      "metadata": {
        "id": "LgStjwdx-zWq"
      },
      "source": [
        "List out the various categories in the column 'CompFreq'\n"
      ]
    },
    {
      "cell_type": "code",
      "execution_count": null,
      "metadata": {
        "id": "C8RTfWgB-zWq"
      },
      "outputs": [],
      "source": [
        "# your code goes here\n"
      ]
    },
    {
      "cell_type": "markdown",
      "metadata": {
        "id": "h4NlOxP5-zWq"
      },
      "source": [
        "Create a new column named 'NormalizedAnnualCompensation'. Use the hint given below if needed.\n"
      ]
    },
    {
      "cell_type": "markdown",
      "metadata": {
        "id": "xn3KwxLd-zWq"
      },
      "source": [
        "Double click to see the **Hint**.\n",
        "\n",
        "<!--\n",
        "\n",
        "Use the below logic to arrive at the values for the column NormalizedAnnualCompensation.\n",
        "\n",
        "If the CompFreq is Yearly then use the exising value in CompTotal\n",
        "If the CompFreq is Monthly then multiply the value in CompTotal with 12 (months in an year)\n",
        "If the CompFreq is Weekly then multiply the value in CompTotal with 52 (weeks in an year)\n",
        "\n",
        "-->\n"
      ]
    },
    {
      "cell_type": "code",
      "execution_count": null,
      "metadata": {
        "id": "XJngJEgT-zWq"
      },
      "outputs": [],
      "source": [
        "# your code goes here\n"
      ]
    },
    {
      "cell_type": "markdown",
      "metadata": {
        "id": "mR6-DeCc-zWq"
      },
      "source": [
        "## Authors\n"
      ]
    },
    {
      "cell_type": "markdown",
      "metadata": {
        "id": "hSGOcW2A-zWq"
      },
      "source": [
        "Ramesh Sannareddy\n"
      ]
    },
    {
      "cell_type": "markdown",
      "metadata": {
        "id": "lW53FxXW-zWr"
      },
      "source": [
        "### Other Contributors\n"
      ]
    },
    {
      "cell_type": "markdown",
      "metadata": {
        "id": "6AU0sEX3-zWr"
      },
      "source": [
        "Rav Ahuja\n"
      ]
    },
    {
      "cell_type": "markdown",
      "metadata": {
        "id": "IZWTLhKG-zWr"
      },
      "source": [
        "## Change Log\n"
      ]
    },
    {
      "cell_type": "markdown",
      "metadata": {
        "id": "m7-zmDSy-zWr"
      },
      "source": [
        "| Date (YYYY-MM-DD) | Version | Changed By        | Change Description                 |\n",
        "| ----------------- | ------- | ----------------- | ---------------------------------- |\n",
        "| 2020-10-17        | 0.1     | Ramesh Sannareddy | Created initial version of the lab |\n"
      ]
    },
    {
      "cell_type": "markdown",
      "metadata": {
        "id": "ucMbSFTK-zWr"
      },
      "source": [
        " Copyright © 2020 IBM Corporation. This notebook and its source code are released under the terms of the [MIT License](https://cognitiveclass.ai/mit-license?utm_medium=Exinfluencer&utm_source=Exinfluencer&utm_content=000026UJ&utm_term=10006555&utm_id=NA-SkillsNetwork-Channel-SkillsNetworkCoursesIBMDA0321ENSkillsNetwork928-2022-01-01&cm_mmc=Email_Newsletter-_-Developer_Ed%2BTech-_-WW_WW-_-SkillsNetwork-Courses-IBM-DA0321EN-SkillsNetwork-21426264&cm_mmca1=000026UJ&cm_mmca2=10006555&cm_mmca3=M12345678&cvosrc=email.Newsletter.M12345678&cvo_campaign=000026UJ).\n"
      ]
    }
  ],
  "metadata": {
    "kernelspec": {
      "display_name": "Python",
      "language": "python",
      "name": "conda-env-python-py"
    },
    "language_info": {
      "name": ""
    },
    "colab": {
      "provenance": [],
      "include_colab_link": true
    }
  },
  "nbformat": 4,
  "nbformat_minor": 0
}